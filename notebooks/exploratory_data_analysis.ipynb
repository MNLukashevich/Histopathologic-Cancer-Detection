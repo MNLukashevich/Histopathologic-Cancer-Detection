{
 "cells": [
  {
   "cell_type": "code",
   "execution_count": 3,
   "metadata": {},
   "outputs": [],
   "source": [
    "import os\n",
    "import cv2\n",
    "import matplotlib.pyplot as plt\n",
    "import pandas as pd"
   ]
  },
  {
   "cell_type": "code",
   "execution_count": null,
   "metadata": {},
   "outputs": [],
   "source": [
    "# Set the path to the folder containing your .tif images\n",
    "image_folder = '../data/reduced_images_10000/'"
   ]
  },
  {
   "cell_type": "code",
   "execution_count": null,
   "metadata": {},
   "outputs": [],
   "source": [
    "# List all image files in the folder\n",
    "image_files = os.listdir(image_folder)\n",
    "\n",
    "# Load and display the first few images\n",
    "num_images_to_display = 5\n",
    "\n",
    "for i, image_filename in enumerate(image_files[:num_images_to_display]):\n",
    "    image_path = os.path.join(image_folder, image_filename)\n",
    "    image = cv2.imread(image_path, cv2.IMREAD_COLOR)  # Load the image in color\n",
    "    image = cv2.cvtColor(image, cv2.COLOR_BGR2RGB)  # Convert BGR to RGB\n",
    "    plt.subplot(1, num_images_to_display, i + 1)\n",
    "    plt.imshow(image)\n",
    "    plt.title(f'Image {i + 1}')\n",
    "    plt.axis('off')\n",
    "\n",
    "plt.show()\n",
    "\n",
    "# You can also load and inspect image properties, such as dimensions\n",
    "image = cv2.imread(os.path.join(image_folder, image_files[0]), cv2.IMREAD_UNCHANGED)\n",
    "height, width = image.shape[:2]\n",
    "print(f\"Image dimensions: Height={height}, Width={width}\")"
   ]
  },
  {
   "cell_type": "code",
   "execution_count": 16,
   "metadata": {},
   "outputs": [],
   "source": [
    "# Load your dataset (e.g., using pandas)\n",
    "reduced_train_labels = pd.read_csv('../data/reduced_labels_10000.csv')"
   ]
  },
  {
   "cell_type": "code",
   "execution_count": 5,
   "metadata": {},
   "outputs": [
    {
     "name": "stdout",
     "output_type": "stream",
     "text": [
      "Dataset Inspection:\n",
      "                                         id  label\n",
      "0  b2ceaa1d67517b7a1b78b818719f4433a3954d16      1\n",
      "1  aaae66f04aedbe2972560c1ca0f844d9a8c0e125      0\n",
      "2  64442cb5270538cb8ab39a020506a9db8280e452      0\n",
      "3  793c110499ab92f4c5c5324f55c595c5e237a968      0\n",
      "4  9234d1fb4f9d39feaa9df97403e1c04dc47eae59      0\n",
      "              label\n",
      "count  10000.000000\n",
      "mean       0.500000\n",
      "std        0.500025\n",
      "min        0.000000\n",
      "25%        0.000000\n",
      "50%        0.500000\n",
      "75%        1.000000\n",
      "max        1.000000\n",
      "<class 'pandas.core.frame.DataFrame'>\n",
      "RangeIndex: 10000 entries, 0 to 9999\n",
      "Data columns (total 2 columns):\n",
      " #   Column  Non-Null Count  Dtype \n",
      "---  ------  --------------  ----- \n",
      " 0   id      10000 non-null  object\n",
      " 1   label   10000 non-null  int64 \n",
      "dtypes: int64(1), object(1)\n",
      "memory usage: 156.4+ KB\n",
      "None\n"
     ]
    }
   ],
   "source": [
    "# Inspect the loaded dataset\n",
    "print(\"Dataset Inspection:\")\n",
    "print(reduced_train_labels.head())  # Display the first few rows of the dataset\n",
    "print(reduced_train_labels.describe())  # Display basic statistics of the dataset\n",
    "print(reduced_train_labels.info())  # Display information about the dataset"
   ]
  },
  {
   "cell_type": "code",
   "execution_count": 6,
   "metadata": {},
   "outputs": [],
   "source": [
    "# Check for corrupt or incomplete images and remove them from the dataset if necessary\n",
    "def is_valid_image(image_path):\n",
    "    try:\n",
    "        image = cv2.imread(image_path, cv2.IMREAD_UNCHANGED)\n",
    "        if image is not None:\n",
    "            return True\n",
    "        else:\n",
    "            return False\n",
    "    except Exception as e:\n",
    "        return False"
   ]
  },
  {
   "cell_type": "code",
   "execution_count": 14,
   "metadata": {},
   "outputs": [
    {
     "name": "stdout",
     "output_type": "stream",
     "text": [
      "Number of corrupt Image: 0\n"
     ]
    }
   ],
   "source": [
    "# Initialize a list to store IDs of corrupt or incomplete images\n",
    "corrupt_image_ids = []\n",
    "# Filter out valid images and keep track of corrupt/incomplete ones\n",
    "valid_image_files = []\n",
    "for img_file in image_files:\n",
    "    img_path = os.path.join(image_folder, img_file)\n",
    "    if is_valid_image(img_path):\n",
    "        valid_image_files.append(img_file)\n",
    "    else:\n",
    "        corrupt_image_ids.append(os.path.splitext(img_file)[0])\n",
    "        \n",
    "print(\"Number of corrupt Image:\", len(corrupt_image_ids))"
   ]
  },
  {
   "cell_type": "code",
   "execution_count": 24,
   "metadata": {},
   "outputs": [
    {
     "name": "stdout",
     "output_type": "stream",
     "text": [
      "All Image IDs are in the dataset, and labels are either 0 or 1.\n"
     ]
    }
   ],
   "source": [
    "# Extract the image IDs from the filenames (assuming filenames are in the format 'image_id.tif')\n",
    "image_ids = [os.path.splitext(img)[0] for img in image_files]\n",
    "\n",
    "# Check if any image filenames are not in the reduced_train_labels dataset\n",
    "missing_images = [image_id for image_id in image_ids if image_id not in reduced_train_labels['id'].values]\n",
    "\n",
    "# Check if labels for the images are either 0 or 1\n",
    "invalid_labels = []\n",
    "for image_id in image_ids:\n",
    "    label = reduced_train_labels[reduced_train_labels['id'] == image_id]['label'].values\n",
    "    if len(label) == 0 or label[0] not in [0, 1]:\n",
    "        invalid_labels.append(image_id)\n",
    "\n",
    "if len(missing_images) > 0:\n",
    "    print(f\"Missing Images in Dataset for {len(missing_images)} IDs:\")\n",
    "    for image_id in missing_images:\n",
    "        print(image_id)\n",
    "\n",
    "if len(invalid_labels) > 0:\n",
    "    print(f\"Invalid Labels for {len(invalid_labels)} Images:\")\n",
    "    for image_id in invalid_labels:\n",
    "        print(image_id)\n",
    "\n",
    "if not missing_images and not invalid_labels:\n",
    "    print(\"All Image IDs are in the dataset, and labels are either 0 or 1.\")"
   ]
  },
  {
   "cell_type": "code",
   "execution_count": null,
   "metadata": {},
   "outputs": [],
   "source": []
  }
 ],
 "metadata": {
  "kernelspec": {
   "display_name": "Python 3 (ipykernel)",
   "language": "python",
   "name": "python3"
  },
  "language_info": {
   "codemirror_mode": {
    "name": "ipython",
    "version": 3
   },
   "file_extension": ".py",
   "mimetype": "text/x-python",
   "name": "python",
   "nbconvert_exporter": "python",
   "pygments_lexer": "ipython3",
   "version": "3.10.6"
  }
 },
 "nbformat": 4,
 "nbformat_minor": 2
}
